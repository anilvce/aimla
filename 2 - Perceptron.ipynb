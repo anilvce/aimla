{
 "cells": [
  {
   "cell_type": "code",
   "execution_count": 22,
   "metadata": {},
   "outputs": [],
   "source": [
    "import numpy as np\n",
    "\n",
    "class Perceptron:\n",
    "    def __init__(self, input_size, learning_rate=0.01, epochs=100):\n",
    "        self.weights = np.zeros(input_size + 1)  # Add one for the bias\n",
    "        self.learning_rate = learning_rate\n",
    "        self.epochs = epochs\n",
    "\n",
    "    def predict(self, inputs):\n",
    "        summation = np.dot(inputs, self.weights[1:]) + self.weights[0]\n",
    "        activation = 1 if summation > 0 else 0\n",
    "        return activation\n",
    "\n",
    "    def train(self, training_data, labels):\n",
    "        for _ in range(self.epochs):\n",
    "            for inputs, label in zip(training_data, labels):\n",
    "                prediction = self.predict(inputs)\n",
    "                error = label - prediction\n",
    "                self.weights[1:] += self.learning_rate * error * inputs\n",
    "                self.weights[0] += self.learning_rate * error\n",
    "    def printparams(self):\n",
    "        print(f\"weights:{self.weights}\")"
   ]
  },
  {
   "cell_type": "code",
   "execution_count": 35,
   "metadata": {},
   "outputs": [
    {
     "name": "stdout",
     "output_type": "stream",
     "text": [
      "Input: [0 0], Prediction: 0\n",
      "Input: [0 1], Prediction: 0\n",
      "Input: [1 0], Prediction: 0\n",
      "Input: [1 1], Prediction: 1\n",
      "weights:[-0.02  0.02  0.01]\n",
      "None\n"
     ]
    }
   ],
   "source": [
    "# Example usage:\n",
    "# Training data (AND gate)\n",
    "training_data = np.array([[0, 0], [0, 1], [1, 0], [1, 1]])\n",
    "labels = np.array([0, 0, 0, 1])\n",
    "\n",
    "# Initialize perceptron\n",
    "perceptron = Perceptron(input_size=2)\n",
    "# Train perceptron\n",
    "perceptron.train(training_data, labels)\n",
    "# Test perceptron\n",
    "test_data = np.array([[0, 0], [0, 1], [1, 0], [1, 1]])\n",
    "for inputs in test_data:\n",
    "    prediction = perceptron.predict(inputs)\n",
    "    print(f\"Input: {inputs}, Prediction: {prediction}\")\n",
    "\n",
    "print(perceptron.printparams())"
   ]
  },
  {
   "cell_type": "code",
   "execution_count": null,
   "metadata": {},
   "outputs": [],
   "source": [
    "# Example usage:\n",
    "# Training data (XOR gate)\n",
    "training_data = np.array([[0, 0], [0, 1], [1, 0], [1, 1]])\n",
    "labels = np.array([0, 1, 1, 0])\n",
    "\n",
    "# Initialize perceptron\n",
    "perceptron = Perceptron(input_size=2)\n",
    "# Train perceptron\n",
    "perceptron.train(training_data, labels)\n",
    "# Test perceptron\n",
    "test_data = np.array([[0, 0], [0, 1], [1, 0], [1, 1]])\n",
    "for inputs in test_data:\n",
    "    prediction = perceptron.predict(inputs)\n",
    "    print(f\"Input: {inputs}, Prediction: {prediction}\")\n",
    "    \n",
    "print(perceptron.printparams())"
   ]
  },
  {
   "cell_type": "markdown",
   "metadata": {},
   "source": [
    "# Exercises\n",
    "#1 - find parameters for various boolean gates like OR, NOR, NAND\n",
    "#2- verify with various inital parametres, epochs, learning rates\n",
    "#3 - verify convergence happening with non-linear dataset like XOR"
   ]
  },
  {
   "cell_type": "code",
   "execution_count": null,
   "metadata": {},
   "outputs": [],
   "source": []
  }
 ],
 "metadata": {
  "kernelspec": {
   "display_name": "Python 3",
   "language": "python",
   "name": "python3"
  },
  "language_info": {
   "codemirror_mode": {
    "name": "ipython",
    "version": 3
   },
   "file_extension": ".py",
   "mimetype": "text/x-python",
   "name": "python",
   "nbconvert_exporter": "python",
   "pygments_lexer": "ipython3",
   "version": "3.8.5"
  }
 },
 "nbformat": 4,
 "nbformat_minor": 4
}
